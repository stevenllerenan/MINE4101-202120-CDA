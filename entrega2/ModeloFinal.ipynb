{
 "cells": [
  {
   "cell_type": "code",
   "execution_count": 1,
   "metadata": {
    "executionInfo": {
     "elapsed": 899,
     "status": "ok",
     "timestamp": 1636861956722,
     "user": {
      "displayName": "Sebastian Otalora",
      "photoUrl": "https://lh3.googleusercontent.com/a-/AOh14GjTyfs1DT82OJ7p8vkDW74ttaFahoPfGiMHsQFkIuQ=s64",
      "userId": "13033229886867662546"
     },
     "user_tz": 300
    },
    "id": "WYNMmUsN_NL_"
   },
   "outputs": [],
   "source": [
    "import pandas as pd\n",
    "import numpy as np\n",
    "\n",
    "from sklearn.preprocessing import OrdinalEncoder, MinMaxScaler\n",
    "from sklearn.pipeline import Pipeline\n",
    "\n",
    "import seaborn as sns\n",
    "%matplotlib inline\n",
    "sns.set(rc={'figure.figsize':(12,8)})"
   ]
  },
  {
   "cell_type": "code",
   "execution_count": 3,
   "metadata": {},
   "outputs": [
    {
     "name": "stdout",
     "output_type": "stream",
     "text": [
      "Requirement already satisfied: imblearn==0.0 in /opt/conda/lib/python3.9/site-packages (0.0)\n",
      "Requirement already satisfied: imbalanced-learn in /opt/conda/lib/python3.9/site-packages (from imblearn==0.0) (0.8.1)\n",
      "Requirement already satisfied: numpy>=1.13.3 in /opt/conda/lib/python3.9/site-packages (from imbalanced-learn->imblearn==0.0) (1.21.2)\n",
      "Requirement already satisfied: scipy>=0.19.1 in /opt/conda/lib/python3.9/site-packages (from imbalanced-learn->imblearn==0.0) (1.7.1)\n",
      "Requirement already satisfied: joblib>=0.11 in /opt/conda/lib/python3.9/site-packages (from imbalanced-learn->imblearn==0.0) (1.0.1)\n",
      "Requirement already satisfied: scikit-learn>=0.24 in /opt/conda/lib/python3.9/site-packages (from imbalanced-learn->imblearn==0.0) (0.24.2)\n",
      "Requirement already satisfied: threadpoolctl>=2.0.0 in /opt/conda/lib/python3.9/site-packages (from scikit-learn>=0.24->imbalanced-learn->imblearn==0.0) (2.2.0)\n"
     ]
    }
   ],
   "source": [
    "!pip install imblearn==0.0"
   ]
  },
  {
   "cell_type": "code",
   "execution_count": 4,
   "metadata": {
    "executionInfo": {
     "elapsed": 346,
     "status": "ok",
     "timestamp": 1636861992445,
     "user": {
      "displayName": "Sebastian Otalora",
      "photoUrl": "https://lh3.googleusercontent.com/a-/AOh14GjTyfs1DT82OJ7p8vkDW74ttaFahoPfGiMHsQFkIuQ=s64",
      "userId": "13033229886867662546"
     },
     "user_tz": 300
    },
    "id": "yQ15GT1-k7o6"
   },
   "outputs": [],
   "source": [
    "from sklearn.model_selection import train_test_split\n",
    "from sklearn.model_selection import cross_val_score\n",
    "from sklearn.model_selection import GridSearchCV\n",
    "from sklearn.ensemble import RandomForestClassifier\n",
    "from sklearn.metrics import accuracy_score\n",
    "from sklearn.svm import SVC\n",
    "from sklearn.metrics import roc_auc_score\n",
    "from sklearn.metrics import accuracy_score\n",
    "from sklearn.metrics import recall_score\n",
    "from sklearn.metrics import precision_score\n",
    "from sklearn.metrics import f1_score\n",
    "import time\n",
    "from matplotlib import pyplot as plt\n",
    "from sklearn.model_selection import train_test_split\n",
    "\n",
    "import warnings\n",
    "warnings.filterwarnings('ignore')\n",
    "from sklearn.metrics import accuracy_score, confusion_matrix, classification_report\n"
   ]
  },
  {
   "cell_type": "code",
   "execution_count": 5,
   "metadata": {
    "colab": {
     "base_uri": "https://localhost:8080/"
    },
    "executionInfo": {
     "elapsed": 27248,
     "status": "ok",
     "timestamp": 1636861983967,
     "user": {
      "displayName": "Sebastian Otalora",
      "photoUrl": "https://lh3.googleusercontent.com/a-/AOh14GjTyfs1DT82OJ7p8vkDW74ttaFahoPfGiMHsQFkIuQ=s64",
      "userId": "13033229886867662546"
     },
     "user_tz": 300
    },
    "id": "1ZNAXEw1_Yh_",
    "outputId": "d4359a92-6cb7-401e-facc-37909c390c29"
   },
   "outputs": [],
   "source": [
    "# from google.colab import drive\n",
    "# drive.mount('/content/drive')"
   ]
  },
  {
   "cell_type": "code",
   "execution_count": 6,
   "metadata": {
    "executionInfo": {
     "elapsed": 266,
     "status": "ok",
     "timestamp": 1636861984231,
     "user": {
      "displayName": "Sebastian Otalora",
      "photoUrl": "https://lh3.googleusercontent.com/a-/AOh14GjTyfs1DT82OJ7p8vkDW74ttaFahoPfGiMHsQFkIuQ=s64",
      "userId": "13033229886867662546"
     },
     "user_tz": 300
    },
    "id": "YT4Vx1zA_YcW"
   },
   "outputs": [],
   "source": [
    "# dir = '/content/drive/MyDrive/Maestria/SemestreII/CDA Final/'"
   ]
  },
  {
   "cell_type": "code",
   "execution_count": 7,
   "metadata": {
    "executionInfo": {
     "elapsed": 1186,
     "status": "ok",
     "timestamp": 1636861985597,
     "user": {
      "displayName": "Sebastian Otalora",
      "photoUrl": "https://lh3.googleusercontent.com/a-/AOh14GjTyfs1DT82OJ7p8vkDW74ttaFahoPfGiMHsQFkIuQ=s64",
      "userId": "13033229886867662546"
     },
     "user_tz": 300
    },
    "id": "fBEGFjXM_YUv"
   },
   "outputs": [],
   "source": [
    "# datos = pd.read_csv(dir+\"procesado_df.csv\")\n",
    "datos = pd.read_csv(\"procesado_df.csv\")"
   ]
  },
  {
   "cell_type": "code",
   "execution_count": 8,
   "metadata": {
    "colab": {
     "base_uri": "https://localhost:8080/",
     "height": 134
    },
    "executionInfo": {
     "elapsed": 5,
     "status": "ok",
     "timestamp": 1636861985598,
     "user": {
      "displayName": "Sebastian Otalora",
      "photoUrl": "https://lh3.googleusercontent.com/a-/AOh14GjTyfs1DT82OJ7p8vkDW74ttaFahoPfGiMHsQFkIuQ=s64",
      "userId": "13033229886867662546"
     },
     "user_tz": 300
    },
    "id": "WAx6J8Os_i60",
    "outputId": "87dbdf81-f5ef-460e-cb0e-4e0164338f91"
   },
   "outputs": [
    {
     "data": {
      "text/html": [
       "<div>\n",
       "<style scoped>\n",
       "    .dataframe tbody tr th:only-of-type {\n",
       "        vertical-align: middle;\n",
       "    }\n",
       "\n",
       "    .dataframe tbody tr th {\n",
       "        vertical-align: top;\n",
       "    }\n",
       "\n",
       "    .dataframe thead th {\n",
       "        text-align: right;\n",
       "    }\n",
       "</style>\n",
       "<table border=\"1\" class=\"dataframe\">\n",
       "  <thead>\n",
       "    <tr style=\"text-align: right;\">\n",
       "      <th></th>\n",
       "      <th>Unnamed: 0</th>\n",
       "      <th>df_index</th>\n",
       "      <th>review_score</th>\n",
       "      <th>price</th>\n",
       "      <th>freight_value</th>\n",
       "      <th>payment_type</th>\n",
       "      <th>payment_installments</th>\n",
       "      <th>payment_value</th>\n",
       "      <th>seller_city</th>\n",
       "      <th>seller_state</th>\n",
       "      <th>...</th>\n",
       "      <th>prom_score_producto</th>\n",
       "      <th>prom_score_categoria</th>\n",
       "      <th>distancia_kms</th>\n",
       "      <th>flete_x_prod</th>\n",
       "      <th>tiempo_entrega_dias</th>\n",
       "      <th>tiempo_aprobacion_horas</th>\n",
       "      <th>tiempo_alistamiento_dias</th>\n",
       "      <th>entrega_a_transportador_atrasada</th>\n",
       "      <th>entrega_a_cliente_atrasada</th>\n",
       "      <th>mejor_producto_respecto_a_categ</th>\n",
       "    </tr>\n",
       "  </thead>\n",
       "  <tbody>\n",
       "    <tr>\n",
       "      <th>0</th>\n",
       "      <td>0</td>\n",
       "      <td>0</td>\n",
       "      <td>4</td>\n",
       "      <td>185.0</td>\n",
       "      <td>13.63</td>\n",
       "      <td>credit_card</td>\n",
       "      <td>8</td>\n",
       "      <td>397.26</td>\n",
       "      <td>sao joaquim da barra</td>\n",
       "      <td>SP</td>\n",
       "      <td>...</td>\n",
       "      <td>4.5</td>\n",
       "      <td>4.10747</td>\n",
       "      <td>346</td>\n",
       "      <td>6.82</td>\n",
       "      <td>4.0</td>\n",
       "      <td>0.0</td>\n",
       "      <td>0.0</td>\n",
       "      <td>0</td>\n",
       "      <td>0</td>\n",
       "      <td>1</td>\n",
       "    </tr>\n",
       "  </tbody>\n",
       "</table>\n",
       "<p>1 rows × 32 columns</p>\n",
       "</div>"
      ],
      "text/plain": [
       "   Unnamed: 0  df_index  review_score  price  freight_value payment_type  \\\n",
       "0           0         0             4  185.0          13.63  credit_card   \n",
       "\n",
       "   payment_installments  payment_value           seller_city seller_state  \\\n",
       "0                     8         397.26  sao joaquim da barra           SP   \n",
       "\n",
       "   ... prom_score_producto prom_score_categoria distancia_kms  flete_x_prod  \\\n",
       "0  ...                 4.5              4.10747           346          6.82   \n",
       "\n",
       "   tiempo_entrega_dias  tiempo_aprobacion_horas  tiempo_alistamiento_dias  \\\n",
       "0                  4.0                      0.0                       0.0   \n",
       "\n",
       "   entrega_a_transportador_atrasada  entrega_a_cliente_atrasada  \\\n",
       "0                                 0                           0   \n",
       "\n",
       "   mejor_producto_respecto_a_categ  \n",
       "0                                1  \n",
       "\n",
       "[1 rows x 32 columns]"
      ]
     },
     "execution_count": 8,
     "metadata": {},
     "output_type": "execute_result"
    }
   ],
   "source": [
    "datos.head(1)"
   ]
  },
  {
   "cell_type": "markdown",
   "metadata": {
    "id": "mecOB5AWAwe0"
   },
   "source": [
    "## **Eliminar columnas categóricas**"
   ]
  },
  {
   "cell_type": "code",
   "execution_count": 9,
   "metadata": {
    "executionInfo": {
     "elapsed": 3,
     "status": "ok",
     "timestamp": 1636861985598,
     "user": {
      "displayName": "Sebastian Otalora",
      "photoUrl": "https://lh3.googleusercontent.com/a-/AOh14GjTyfs1DT82OJ7p8vkDW74ttaFahoPfGiMHsQFkIuQ=s64",
      "userId": "13033229886867662546"
     },
     "user_tz": 300
    },
    "id": "ewuuPKq_AL4w"
   },
   "outputs": [],
   "source": [
    "datos.drop(columns=[\n",
    "        'Unnamed: 0', 'df_index','payment_type', 'payment_installments', 'payment_value', \"product_category_name\", \"customer_state\",\"customer_city\",\"seller_state\",\"seller_city\"\n",
    "        ], inplace = True)"
   ]
  },
  {
   "cell_type": "code",
   "execution_count": 10,
   "metadata": {
    "colab": {
     "base_uri": "https://localhost:8080/",
     "height": 224
    },
    "executionInfo": {
     "elapsed": 145,
     "status": "ok",
     "timestamp": 1636861985740,
     "user": {
      "displayName": "Sebastian Otalora",
      "photoUrl": "https://lh3.googleusercontent.com/a-/AOh14GjTyfs1DT82OJ7p8vkDW74ttaFahoPfGiMHsQFkIuQ=s64",
      "userId": "13033229886867662546"
     },
     "user_tz": 300
    },
    "id": "ec5VQUr-_jAb",
    "outputId": "95c81d3b-d741-446e-c6ce-ee31b4532cb3"
   },
   "outputs": [
    {
     "data": {
      "text/html": [
       "<div>\n",
       "<style scoped>\n",
       "    .dataframe tbody tr th:only-of-type {\n",
       "        vertical-align: middle;\n",
       "    }\n",
       "\n",
       "    .dataframe tbody tr th {\n",
       "        vertical-align: top;\n",
       "    }\n",
       "\n",
       "    .dataframe thead th {\n",
       "        text-align: right;\n",
       "    }\n",
       "</style>\n",
       "<table border=\"1\" class=\"dataframe\">\n",
       "  <thead>\n",
       "    <tr style=\"text-align: right;\">\n",
       "      <th></th>\n",
       "      <th>review_score</th>\n",
       "      <th>price</th>\n",
       "      <th>freight_value</th>\n",
       "      <th>product_name_lenght</th>\n",
       "      <th>product_description_lenght</th>\n",
       "      <th>product_photos_qty</th>\n",
       "      <th>product_weight_g</th>\n",
       "      <th>product_length_cm</th>\n",
       "      <th>product_height_cm</th>\n",
       "      <th>product_width_cm</th>\n",
       "      <th>...</th>\n",
       "      <th>prom_score_producto</th>\n",
       "      <th>prom_score_categoria</th>\n",
       "      <th>distancia_kms</th>\n",
       "      <th>flete_x_prod</th>\n",
       "      <th>tiempo_entrega_dias</th>\n",
       "      <th>tiempo_aprobacion_horas</th>\n",
       "      <th>tiempo_alistamiento_dias</th>\n",
       "      <th>entrega_a_transportador_atrasada</th>\n",
       "      <th>entrega_a_cliente_atrasada</th>\n",
       "      <th>mejor_producto_respecto_a_categ</th>\n",
       "    </tr>\n",
       "  </thead>\n",
       "  <tbody>\n",
       "    <tr>\n",
       "      <th>0</th>\n",
       "      <td>4</td>\n",
       "      <td>185.0</td>\n",
       "      <td>13.63</td>\n",
       "      <td>42.0</td>\n",
       "      <td>858.0</td>\n",
       "      <td>1.0</td>\n",
       "      <td>1300.0</td>\n",
       "      <td>30.0</td>\n",
       "      <td>30.0</td>\n",
       "      <td>35.0</td>\n",
       "      <td>...</td>\n",
       "      <td>4.50</td>\n",
       "      <td>4.10747</td>\n",
       "      <td>346</td>\n",
       "      <td>6.82</td>\n",
       "      <td>4.0</td>\n",
       "      <td>0.0</td>\n",
       "      <td>0.0</td>\n",
       "      <td>0</td>\n",
       "      <td>0</td>\n",
       "      <td>1</td>\n",
       "    </tr>\n",
       "    <tr>\n",
       "      <th>1</th>\n",
       "      <td>4</td>\n",
       "      <td>185.0</td>\n",
       "      <td>13.63</td>\n",
       "      <td>42.0</td>\n",
       "      <td>858.0</td>\n",
       "      <td>1.0</td>\n",
       "      <td>1300.0</td>\n",
       "      <td>30.0</td>\n",
       "      <td>30.0</td>\n",
       "      <td>35.0</td>\n",
       "      <td>...</td>\n",
       "      <td>4.50</td>\n",
       "      <td>4.10747</td>\n",
       "      <td>346</td>\n",
       "      <td>6.82</td>\n",
       "      <td>4.0</td>\n",
       "      <td>0.0</td>\n",
       "      <td>0.0</td>\n",
       "      <td>0</td>\n",
       "      <td>0</td>\n",
       "      <td>1</td>\n",
       "    </tr>\n",
       "    <tr>\n",
       "      <th>2</th>\n",
       "      <td>5</td>\n",
       "      <td>185.0</td>\n",
       "      <td>20.26</td>\n",
       "      <td>42.0</td>\n",
       "      <td>858.0</td>\n",
       "      <td>1.0</td>\n",
       "      <td>1300.0</td>\n",
       "      <td>30.0</td>\n",
       "      <td>30.0</td>\n",
       "      <td>35.0</td>\n",
       "      <td>...</td>\n",
       "      <td>4.50</td>\n",
       "      <td>4.10747</td>\n",
       "      <td>1100</td>\n",
       "      <td>20.26</td>\n",
       "      <td>13.0</td>\n",
       "      <td>0.0</td>\n",
       "      <td>0.0</td>\n",
       "      <td>0</td>\n",
       "      <td>0</td>\n",
       "      <td>1</td>\n",
       "    </tr>\n",
       "    <tr>\n",
       "      <th>3</th>\n",
       "      <td>5</td>\n",
       "      <td>185.0</td>\n",
       "      <td>17.05</td>\n",
       "      <td>42.0</td>\n",
       "      <td>858.0</td>\n",
       "      <td>1.0</td>\n",
       "      <td>1300.0</td>\n",
       "      <td>30.0</td>\n",
       "      <td>30.0</td>\n",
       "      <td>35.0</td>\n",
       "      <td>...</td>\n",
       "      <td>4.50</td>\n",
       "      <td>4.10747</td>\n",
       "      <td>519</td>\n",
       "      <td>17.05</td>\n",
       "      <td>19.0</td>\n",
       "      <td>0.0</td>\n",
       "      <td>0.0</td>\n",
       "      <td>0</td>\n",
       "      <td>0</td>\n",
       "      <td>1</td>\n",
       "    </tr>\n",
       "    <tr>\n",
       "      <th>4</th>\n",
       "      <td>5</td>\n",
       "      <td>135.0</td>\n",
       "      <td>18.20</td>\n",
       "      <td>47.0</td>\n",
       "      <td>858.0</td>\n",
       "      <td>1.0</td>\n",
       "      <td>1600.0</td>\n",
       "      <td>30.0</td>\n",
       "      <td>30.0</td>\n",
       "      <td>35.0</td>\n",
       "      <td>...</td>\n",
       "      <td>4.25</td>\n",
       "      <td>4.10747</td>\n",
       "      <td>188</td>\n",
       "      <td>9.10</td>\n",
       "      <td>16.0</td>\n",
       "      <td>0.0</td>\n",
       "      <td>0.0</td>\n",
       "      <td>0</td>\n",
       "      <td>0</td>\n",
       "      <td>1</td>\n",
       "    </tr>\n",
       "  </tbody>\n",
       "</table>\n",
       "<p>5 rows × 22 columns</p>\n",
       "</div>"
      ],
      "text/plain": [
       "   review_score  price  freight_value  product_name_lenght  \\\n",
       "0             4  185.0          13.63                 42.0   \n",
       "1             4  185.0          13.63                 42.0   \n",
       "2             5  185.0          20.26                 42.0   \n",
       "3             5  185.0          17.05                 42.0   \n",
       "4             5  135.0          18.20                 47.0   \n",
       "\n",
       "   product_description_lenght  product_photos_qty  product_weight_g  \\\n",
       "0                       858.0                 1.0            1300.0   \n",
       "1                       858.0                 1.0            1300.0   \n",
       "2                       858.0                 1.0            1300.0   \n",
       "3                       858.0                 1.0            1300.0   \n",
       "4                       858.0                 1.0            1600.0   \n",
       "\n",
       "   product_length_cm  product_height_cm  product_width_cm  ...  \\\n",
       "0               30.0               30.0              35.0  ...   \n",
       "1               30.0               30.0              35.0  ...   \n",
       "2               30.0               30.0              35.0  ...   \n",
       "3               30.0               30.0              35.0  ...   \n",
       "4               30.0               30.0              35.0  ...   \n",
       "\n",
       "   prom_score_producto  prom_score_categoria  distancia_kms  flete_x_prod  \\\n",
       "0                 4.50               4.10747            346          6.82   \n",
       "1                 4.50               4.10747            346          6.82   \n",
       "2                 4.50               4.10747           1100         20.26   \n",
       "3                 4.50               4.10747            519         17.05   \n",
       "4                 4.25               4.10747            188          9.10   \n",
       "\n",
       "   tiempo_entrega_dias  tiempo_aprobacion_horas  tiempo_alistamiento_dias  \\\n",
       "0                  4.0                      0.0                       0.0   \n",
       "1                  4.0                      0.0                       0.0   \n",
       "2                 13.0                      0.0                       0.0   \n",
       "3                 19.0                      0.0                       0.0   \n",
       "4                 16.0                      0.0                       0.0   \n",
       "\n",
       "   entrega_a_transportador_atrasada  entrega_a_cliente_atrasada  \\\n",
       "0                                 0                           0   \n",
       "1                                 0                           0   \n",
       "2                                 0                           0   \n",
       "3                                 0                           0   \n",
       "4                                 0                           0   \n",
       "\n",
       "   mejor_producto_respecto_a_categ  \n",
       "0                                1  \n",
       "1                                1  \n",
       "2                                1  \n",
       "3                                1  \n",
       "4                                1  \n",
       "\n",
       "[5 rows x 22 columns]"
      ]
     },
     "execution_count": 10,
     "metadata": {},
     "output_type": "execute_result"
    }
   ],
   "source": [
    "datos.head()"
   ]
  },
  {
   "cell_type": "markdown",
   "metadata": {
    "id": "_ZnLP5LqA5uo"
   },
   "source": [
    "## **Correlacion**"
   ]
  },
  {
   "cell_type": "code",
   "execution_count": 11,
   "metadata": {
    "colab": {
     "base_uri": "https://localhost:8080/",
     "height": 470
    },
    "executionInfo": {
     "elapsed": 1014,
     "status": "ok",
     "timestamp": 1636861986752,
     "user": {
      "displayName": "Sebastian Otalora",
      "photoUrl": "https://lh3.googleusercontent.com/a-/AOh14GjTyfs1DT82OJ7p8vkDW74ttaFahoPfGiMHsQFkIuQ=s64",
      "userId": "13033229886867662546"
     },
     "user_tz": 300
    },
    "id": "d3oS5ev6A5Fc",
    "outputId": "8bd370c2-a45e-4e6c-bced-a77f7ae7602c"
   },
   "outputs": [
    {
     "data": {
      "text/plain": [
       "<AxesSubplot:>"
      ]
     },
     "execution_count": 11,
     "metadata": {},
     "output_type": "execute_result"
    },
    {
     "data": {
      "image/png": "[encoded data removed]",
      "text/plain": [
       "<Figure size 864x576 with 2 Axes>"
      ]
     },
     "metadata": {},
     "output_type": "display_data"
    }
   ],
   "source": [
    "sns.heatmap(datos.corr())"
   ]
  },
  {
   "cell_type": "code",
   "execution_count": 12,
   "metadata": {
    "colab": {
     "base_uri": "https://localhost:8080/",
     "height": 273
    },
    "executionInfo": {
     "elapsed": 397,
     "status": "ok",
     "timestamp": 1636861987147,
     "user": {
      "displayName": "Sebastian Otalora",
      "photoUrl": "https://lh3.googleusercontent.com/a-/AOh14GjTyfs1DT82OJ7p8vkDW74ttaFahoPfGiMHsQFkIuQ=s64",
      "userId": "13033229886867662546"
     },
     "user_tz": 300
    },
    "id": "DV5g-db2_jDM",
    "outputId": "643ba1ab-a4a3-44e4-bf05-57b85f3f4749"
   },
   "outputs": [
    {
     "data": {
      "image/png": "[encoded data removed]",
      "text/plain": [
       "<Figure size 864x576 with 2 Axes>"
      ]
     },
     "metadata": {},
     "output_type": "display_data"
    }
   ],
   "source": [
    "heatmap = sns.heatmap(datos.corr()[['review_score']].sort_values(by='review_score', ascending=False), vmin=-1, vmax=1, annot=True, cmap='BrBG')"
   ]
  },
  {
   "cell_type": "code",
   "execution_count": 13,
   "metadata": {
    "executionInfo": {
     "elapsed": 124,
     "status": "ok",
     "timestamp": 1636862064242,
     "user": {
      "displayName": "Sebastian Otalora",
      "photoUrl": "https://lh3.googleusercontent.com/a-/AOh14GjTyfs1DT82OJ7p8vkDW74ttaFahoPfGiMHsQFkIuQ=s64",
      "userId": "13033229886867662546"
     },
     "user_tz": 300
    },
    "id": "8lpx7bPPkoOf"
   },
   "outputs": [],
   "source": [
    "datos.drop(columns=[\n",
    "        'product_photos_qty',\n",
    "        \"product_length_cm\",\"product_width_cm\",\"product_name_lenght\",\"price\",\"product_weight_g\",\"product_height_cm\",\"tiempo_alistamiento_dias\",\"tiempo_aprobacion_horas\",\n",
    "        \"freight_value\",\n",
    "        \"product_description_lenght\",\n",
    "        # \"cant_prods_orden\",\n",
    "        \"freight_value\",\n",
    "        \"prom_score_categoria\",\n",
    "        \"flete_x_prod\",\n",
    "        'distancia_kms',\n",
    "        ], inplace = True)"
   ]
  },
  {
   "cell_type": "code",
   "execution_count": 14,
   "metadata": {
    "colab": {
     "base_uri": "https://localhost:8080/"
    },
    "executionInfo": {
     "elapsed": 4,
     "status": "ok",
     "timestamp": 1636862079003,
     "user": {
      "displayName": "Sebastian Otalora",
      "photoUrl": "https://lh3.googleusercontent.com/a-/AOh14GjTyfs1DT82OJ7p8vkDW74ttaFahoPfGiMHsQFkIuQ=s64",
      "userId": "13033229886867662546"
     },
     "user_tz": 300
    },
    "id": "NZP2rulrkoLb",
    "outputId": "793530d2-9268-4975-9f00-4b6c4b41e22a"
   },
   "outputs": [
    {
     "data": {
      "text/plain": [
       "Index(['review_score', 'cant_prods_orden', 'prom_score_vendedor',\n",
       "       'prom_score_producto', 'tiempo_entrega_dias',\n",
       "       'entrega_a_transportador_atrasada', 'entrega_a_cliente_atrasada',\n",
       "       'mejor_producto_respecto_a_categ'],\n",
       "      dtype='object')"
      ]
     },
     "execution_count": 14,
     "metadata": {},
     "output_type": "execute_result"
    }
   ],
   "source": [
    "datos.columns"
   ]
  },
  {
   "cell_type": "code",
   "execution_count": 18,
   "metadata": {
    "executionInfo": {
     "elapsed": 172,
     "status": "ok",
     "timestamp": 1636862110686,
     "user": {
      "displayName": "Sebastian Otalora",
      "photoUrl": "https://lh3.googleusercontent.com/a-/AOh14GjTyfs1DT82OJ7p8vkDW74ttaFahoPfGiMHsQFkIuQ=s64",
      "userId": "13033229886867662546"
     },
     "user_tz": 300
    },
    "id": "rEO6QQcXkoIr"
   },
   "outputs": [],
   "source": [
    "from imblearn.over_sampling import RandomOverSampler\n",
    "ros = RandomOverSampler(random_state=777)\n",
    "X_ROS, y_ROS = ros.fit_resample(datos.drop('review_score', axis=1),  datos['review_score'])"
   ]
  },
  {
   "cell_type": "code",
   "execution_count": 19,
   "metadata": {
    "executionInfo": {
     "elapsed": 126,
     "status": "ok",
     "timestamp": 1636862113961,
     "user": {
      "displayName": "Sebastian Otalora",
      "photoUrl": "https://lh3.googleusercontent.com/a-/AOh14GjTyfs1DT82OJ7p8vkDW74ttaFahoPfGiMHsQFkIuQ=s64",
      "userId": "13033229886867662546"
     },
     "user_tz": 300
    },
    "id": "mxH8RwQfkoF5"
   },
   "outputs": [],
   "source": [
    "x_train, x_test, y_train, y_test = train_test_split( X_ROS, y_ROS, test_size = 0.3, random_state=42)"
   ]
  },
  {
   "cell_type": "code",
   "execution_count": 20,
   "metadata": {
    "colab": {
     "base_uri": "https://localhost:8080/"
    },
    "executionInfo": {
     "elapsed": 553557,
     "status": "ok",
     "timestamp": 1636862811932,
     "user": {
      "displayName": "Sebastian Otalora",
      "photoUrl": "https://lh3.googleusercontent.com/a-/AOh14GjTyfs1DT82OJ7p8vkDW74ttaFahoPfGiMHsQFkIuQ=s64",
      "userId": "13033229886867662546"
     },
     "user_tz": 300
    },
    "id": "Qmh3uf2akoDZ",
    "outputId": "6eecd4b7-a27e-4973-c3fd-772a30371da9"
   },
   "outputs": [
    {
     "data": {
      "text/plain": [
       "GridSearchCV(cv=4, estimator=RandomForestClassifier(random_state=42),\n",
       "             param_grid={'criterion': ['gini'],\n",
       "                         'max_features': ['auto', 'sqrt'],\n",
       "                         'n_estimators': [100, 200]})"
      ]
     },
     "execution_count": 20,
     "metadata": {},
     "output_type": "execute_result"
    }
   ],
   "source": [
    "rfc4=RandomForestClassifier(random_state=42)\n",
    "\n",
    "param_grid = { \n",
    "    'n_estimators': [100, 200],\n",
    "    'max_features': ['auto', 'sqrt'],\n",
    "    'criterion' :['gini']\n",
    "}\n",
    "\n",
    "CV_rfc = GridSearchCV(estimator=rfc4, param_grid=param_grid, cv= 4)\n",
    "CV_rfc.fit(x_train, y_train)"
   ]
  },
  {
   "cell_type": "code",
   "execution_count": 21,
   "metadata": {
    "colab": {
     "base_uri": "https://localhost:8080/"
    },
    "executionInfo": {
     "elapsed": 3,
     "status": "ok",
     "timestamp": 1636862812539,
     "user": {
      "displayName": "Sebastian Otalora",
      "photoUrl": "https://lh3.googleusercontent.com/a-/AOh14GjTyfs1DT82OJ7p8vkDW74ttaFahoPfGiMHsQFkIuQ=s64",
      "userId": "13033229886867662546"
     },
     "user_tz": 300
    },
    "id": "OSd5slVlkoA6",
    "outputId": "320df9e7-d54a-4280-c0d4-da528134158d"
   },
   "outputs": [
    {
     "data": {
      "text/plain": [
       "{'criterion': 'gini', 'max_features': 'auto', 'n_estimators': 200}"
      ]
     },
     "execution_count": 21,
     "metadata": {},
     "output_type": "execute_result"
    }
   ],
   "source": [
    "CV_rfc.best_params_"
   ]
  },
  {
   "cell_type": "code",
   "execution_count": 22,
   "metadata": {
    "executionInfo": {
     "elapsed": 3,
     "status": "ok",
     "timestamp": 1636862812540,
     "user": {
      "displayName": "Sebastian Otalora",
      "photoUrl": "https://lh3.googleusercontent.com/a-/AOh14GjTyfs1DT82OJ7p8vkDW74ttaFahoPfGiMHsQFkIuQ=s64",
      "userId": "13033229886867662546"
     },
     "user_tz": 300
    },
    "id": "0_WxkbO5mATI"
   },
   "outputs": [],
   "source": [
    "modelo = CV_rfc.best_estimator_"
   ]
  },
  {
   "cell_type": "code",
   "execution_count": null,
   "metadata": {
    "colab": {
     "base_uri": "https://localhost:8080/"
    },
    "executionInfo": {
     "elapsed": 6889,
     "status": "ok",
     "timestamp": 1636862819426,
     "user": {
      "displayName": "Sebastian Otalora",
      "photoUrl": "https://lh3.googleusercontent.com/a-/AOh14GjTyfs1DT82OJ7p8vkDW74ttaFahoPfGiMHsQFkIuQ=s64",
      "userId": "13033229886867662546"
     },
     "user_tz": 300
    },
    "id": "EAjGiHvfmALF",
    "outputId": "9fc86f4a-90d3-4ece-ec87-42a4b09997ea"
   },
   "outputs": [],
   "source": [
    "prediccion_test=modelo.predict(x_test)\n",
    "print(\"Accuracy con Random Forest en Test: \",accuracy_score(y_test,prediccion_test))"
   ]
  },
  {
   "cell_type": "code",
   "execution_count": null,
   "metadata": {
    "colab": {
     "base_uri": "https://localhost:8080/"
    },
    "executionInfo": {
     "elapsed": 15125,
     "status": "ok",
     "timestamp": 1636862834543,
     "user": {
      "displayName": "Sebastian Otalora",
      "photoUrl": "https://lh3.googleusercontent.com/a-/AOh14GjTyfs1DT82OJ7p8vkDW74ttaFahoPfGiMHsQFkIuQ=s64",
      "userId": "13033229886867662546"
     },
     "user_tz": 300
    },
    "id": "EZ60EJjymIh5",
    "outputId": "53b31d5a-1a6a-4fd6-b1b2-0a69cc940601"
   },
   "outputs": [],
   "source": [
    "# Validar sobreajuste mirando metricas en Train\n",
    "prediccion_train=modelo.predict(x_train)\n",
    "print(\"Accuracy con Random Forest en Train: \",accuracy_score(y_train,prediccion_train))\n",
    "# Hay un poquito, pero dentro de lo normal"
   ]
  },
  {
   "cell_type": "code",
   "execution_count": null,
   "metadata": {
    "colab": {
     "base_uri": "https://localhost:8080/",
     "height": 301
    },
    "executionInfo": {
     "elapsed": 637,
     "status": "ok",
     "timestamp": 1636862835173,
     "user": {
      "displayName": "Sebastian Otalora",
      "photoUrl": "https://lh3.googleusercontent.com/a-/AOh14GjTyfs1DT82OJ7p8vkDW74ttaFahoPfGiMHsQFkIuQ=s64",
      "userId": "13033229886867662546"
     },
     "user_tz": 300
    },
    "id": "-ojk2Hlgmt-p",
    "outputId": "5ebd0173-219e-49bb-850c-a0605bd3a26f"
   },
   "outputs": [],
   "source": [
    "labels=[1,2,3,4,5]\n",
    "cf_matrix = confusion_matrix(y_test, prediccion_test, labels)/10\n",
    "\n",
    "ax= plt.subplot()\n",
    "sns.heatmap(cf_matrix, annot=True, fmt='g', ax=ax);\n",
    "\n",
    "# labels, title and ticks\n",
    "ax.set_xlabel('Predicciones');ax.set_ylabel('Anotados'); \n",
    "ax.set_title('Matriz de confusion'); \n",
    "ax.xaxis.set_ticklabels(labels); ax.yaxis.set_ticklabels(labels);"
   ]
  },
  {
   "cell_type": "code",
   "execution_count": null,
   "metadata": {
    "executionInfo": {
     "elapsed": 5065,
     "status": "ok",
     "timestamp": 1636863170539,
     "user": {
      "displayName": "Sebastian Otalora",
      "photoUrl": "https://lh3.googleusercontent.com/a-/AOh14GjTyfs1DT82OJ7p8vkDW74ttaFahoPfGiMHsQFkIuQ=s64",
      "userId": "13033229886867662546"
     },
     "user_tz": 300
    },
    "id": "JmNM9meAmIbO"
   },
   "outputs": [],
   "source": [
    "import pickle\n",
    "Pkl_Filename = dir+\"modelo_entrega2.pkl\"  \n",
    "\n",
    "with open(Pkl_Filename, 'wb') as file:  \n",
    "    pickle.dump(modelo, file)"
   ]
  },
  {
   "cell_type": "code",
   "execution_count": null,
   "metadata": {
    "id": "A4TgEbcPmIUf"
   },
   "outputs": [],
   "source": []
  },
  {
   "cell_type": "code",
   "execution_count": null,
   "metadata": {
    "executionInfo": {
     "elapsed": 155,
     "status": "ok",
     "timestamp": 1636862954766,
     "user": {
      "displayName": "Sebastian Otalora",
      "photoUrl": "https://lh3.googleusercontent.com/a-/AOh14GjTyfs1DT82OJ7p8vkDW74ttaFahoPfGiMHsQFkIuQ=s64",
      "userId": "13033229886867662546"
     },
     "user_tz": 300
    },
    "id": "ADh50mVmkn-Z"
   },
   "outputs": [],
   "source": [
    "# rfc3=RandomForestClassifier(random_state=42, criterion= 'gini', max_features= 'auto', n_estimators=200)\n",
    "# rfc3.fit(x_train, y_train)"
   ]
  },
  {
   "cell_type": "code",
   "execution_count": null,
   "metadata": {
    "executionInfo": {
     "elapsed": 6914,
     "status": "ok",
     "timestamp": 1636862963652,
     "user": {
      "displayName": "Sebastian Otalora",
      "photoUrl": "https://lh3.googleusercontent.com/a-/AOh14GjTyfs1DT82OJ7p8vkDW74ttaFahoPfGiMHsQFkIuQ=s64",
      "userId": "13033229886867662546"
     },
     "user_tz": 300
    },
    "id": "R7rm_9L-kn7J"
   },
   "outputs": [],
   "source": [
    "# pred2=rfc3.predict(x_test)\n",
    "# print(\"Accuracy for Random Forest on CV data: \",accuracy_score(y_test,pred2))"
   ]
  },
  {
   "cell_type": "code",
   "execution_count": null,
   "metadata": {
    "executionInfo": {
     "elapsed": 5,
     "status": "ok",
     "timestamp": 1636861987381,
     "user": {
      "displayName": "Sebastian Otalora",
      "photoUrl": "https://lh3.googleusercontent.com/a-/AOh14GjTyfs1DT82OJ7p8vkDW74ttaFahoPfGiMHsQFkIuQ=s64",
      "userId": "13033229886867662546"
     },
     "user_tz": 300
    },
    "id": "KxCzRrXckn3J"
   },
   "outputs": [],
   "source": []
  }
 ],
 "metadata": {
  "colab": {
   "authorship_tag": "ABX9TyNzJhqb54Z804nOIfZAnyAB",
   "name": "ModeloFinal_Sebastian.ipynb",
   "provenance": []
  },
  "kernelspec": {
   "display_name": "Python 3 (ipykernel)",
   "language": "python",
   "name": "python3"
  },
  "language_info": {
   "codemirror_mode": {
    "name": "ipython",
    "version": 3
   },
   "file_extension": ".py",
   "mimetype": "text/x-python",
   "name": "python",
   "nbconvert_exporter": "python",
   "pygments_lexer": "ipython3",
   "version": "3.9.6"
  }
 },
 "nbformat": 4,
 "nbformat_minor": 4
}
